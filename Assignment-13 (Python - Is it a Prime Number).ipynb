{
 "cells": [
  {
   "cell_type": "code",
   "execution_count": null,
   "id": "04087189",
   "metadata": {},
   "outputs": [],
   "source": [
    "'''Prime numbers only have two factors,\n",
    "1 and the number itself. \n",
    "This means these numbers cannot be divided by any number other than 1 \n",
    "and the number itself without leaving a remainder. \n",
    "So if \"count = 2\", this is prime number.\n",
    "'''\n",
    "number = int(input(\"Please enter a number : \"))\n",
    "count = 0 \n",
    "if number > 0 :\n",
    "    for i in range(1, number+1) :\n",
    "        if number % i == 0 :\n",
    "            count += 1\n",
    "    if count == 2 :\n",
    "        print(f\"{number} is a prime number\")\n",
    "    else :\n",
    "        print(f\"{number} is not a prime number\")\n",
    "else : \n",
    "    print(f\"{number} is not a prime number\")"
   ]
  }
 ],
 "metadata": {
  "kernelspec": {
   "display_name": "Python 3 (ipykernel)",
   "language": "python",
   "name": "python3"
  },
  "language_info": {
   "codemirror_mode": {
    "name": "ipython",
    "version": 3
   },
   "file_extension": ".py",
   "mimetype": "text/x-python",
   "name": "python",
   "nbconvert_exporter": "python",
   "pygments_lexer": "ipython3",
   "version": "3.9.12"
  }
 },
 "nbformat": 4,
 "nbformat_minor": 5
}
